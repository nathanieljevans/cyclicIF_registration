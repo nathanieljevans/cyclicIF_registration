{
 "cells": [
  {
   "cell_type": "code",
   "execution_count": null,
   "metadata": {
    "scrolled": true
   },
   "outputs": [],
   "source": [
    "%%time\n",
    "# for development, changes in other modules have to be reloaded to reflect changes\n",
    "%load_ext autoreload\n",
    "%autoreload 1\n",
    "\n",
    "import pandas as pd \n",
    "import numpy as np \n",
    "from matplotlib import pyplot as plt \n",
    "import seaborn as sbn \n",
    "import os, sys\n",
    "import SimpleITK as sitk\n",
    "\n",
    "from scipy.ndimage.filters import gaussian_filter\n",
    "\n",
    "%aimport config \n",
    "sys.path.append(config.lib_dir)\n",
    "%aimport utils\n",
    "%aimport segment \n",
    "%aimport match \n",
    "%aimport register \n",
    "%aimport evaluate \n",
    "%aimport qc "
   ]
  },
  {
   "cell_type": "code",
   "execution_count": null,
   "metadata": {},
   "outputs": [],
   "source": [
    "?sitk.RescaleIntensity"
   ]
  },
  {
   "cell_type": "code",
   "execution_count": null,
   "metadata": {},
   "outputs": [],
   "source": [
    "_dir = !pwd\n",
    "print('this dir:', _dir[0])\n",
    "print('data dir:', config.data_dir) \n",
    "print('output dir:', config.output_dir)\n",
    "print('slide name:', config.slide_name)\n",
    "print('scene:', config.scene_name)"
   ]
  },
  {
   "cell_type": "markdown",
   "metadata": {},
   "source": [
    "# Overview "
   ]
  },
  {
   "cell_type": "code",
   "execution_count": null,
   "metadata": {},
   "outputs": [],
   "source": [
    "img_file_names = [x for x in os.listdir(config.data_dir) if x[-4:] == '.tif']\n",
    "parsed_names = pd.DataFrame([utils.parse_file_name(x) for x in img_file_names])\n",
    "parsed_names.head()"
   ]
  },
  {
   "cell_type": "code",
   "execution_count": null,
   "metadata": {},
   "outputs": [],
   "source": [
    "parsed_names2 = parsed_names[parsed_names.slide_name == config.slide_name]\n",
    "print('sanity check - scenes:', parsed_names2['scene'].unique())\n",
    "parsed_names3 = parsed_names2[parsed_names2.scene == config.scene_name]"
   ]
  },
  {
   "cell_type": "markdown",
   "metadata": {},
   "source": [
    "# Load images \n",
    "\n",
    "This can take a few (>30) minutes, grab a cup of tea. "
   ]
  },
  {
   "cell_type": "code",
   "execution_count": null,
   "metadata": {},
   "outputs": [],
   "source": [
    "%%time\n",
    "fs = [x for x in parsed_names3.original.values if 'c1' in x]\n",
    "imgs = utils.load_imgs_mt(fs, config.data_dir, _type=sitk.sitkUInt16)"
   ]
  },
  {
   "cell_type": "markdown",
   "metadata": {},
   "source": [
    "## Grab two dapi images from different rounds"
   ]
  },
  {
   "cell_type": "code",
   "execution_count": null,
   "metadata": {},
   "outputs": [],
   "source": [
    "k = list(imgs.keys())\n",
    "k.sort()\n",
    "k"
   ]
  },
  {
   "cell_type": "code",
   "execution_count": null,
   "metadata": {},
   "outputs": [],
   "source": [
    "img1 = imgs['R5_BCLxL.CD68.PD1.pATM_D1_2020_10_08__9273_c1_ORG.tif']\n",
    "img2 = imgs['R4_pATR.CCNB1.CD4.53BP1_D1_2020_10_07__9253_c1_ORG.tif']"
   ]
  },
  {
   "cell_type": "code",
   "execution_count": null,
   "metadata": {},
   "outputs": [],
   "source": [
    "utils.myshow(img1[::10, ::10])"
   ]
  },
  {
   "cell_type": "code",
   "execution_count": null,
   "metadata": {},
   "outputs": [],
   "source": [
    "utils.myshow(img2[::10, ::10])"
   ]
  },
  {
   "cell_type": "code",
   "execution_count": null,
   "metadata": {},
   "outputs": [],
   "source": []
  },
  {
   "cell_type": "markdown",
   "metadata": {},
   "source": [
    "# if we assume a significant left-right shift only "
   ]
  },
  {
   "cell_type": "code",
   "execution_count": null,
   "metadata": {},
   "outputs": [],
   "source": [
    "img1_arr = sitk.GetArrayFromImage(img1)\n",
    "arr1 = np.log10(np.sum(img1_arr, axis=0) + 1) # take column sums - add one to avoid log10(0)\n",
    "arr1 = (arr1 - arr1.mean())/arr1.std() # zscore to try and normalize - adjust for differences in intensities\n",
    "\n",
    "img2_arr = sitk.GetArrayFromImage(img2)\n",
    "arr2 = np.log10(np.sum(img2_arr, axis=0) + 1) # take column sums - add one to avoid log10(0)\n",
    "arr2 = (arr2 - arr2.mean())/arr2.std() # zscore to try and normalize - adjust for differences in intensities\n",
    "\n",
    "plt.figure(figsize=(15,5))\n",
    "plt.plot(arr1, c='r', label='img1')\n",
    "plt.plot(arr2, c='b', label='img2')\n",
    "plt.xlabel('img x-pixel position')\n",
    "plt.ylabel('summed signal')\n",
    "plt.legend()\n",
    "plt.show()"
   ]
  },
  {
   "cell_type": "code",
   "execution_count": null,
   "metadata": {},
   "outputs": [],
   "source": [
    "# negative shift (e.g. shift image 2 left)\n",
    "cross_cor = np.correlate(arr1, arr2, 'full')\n",
    "\n",
    "full_shift = np.concatenate((np.arange(-arr1.shape[0], -1, 1), np.arange(0,arr2.shape[0],1)))\n",
    "\n",
    "_best_shift = full_shift[cross_cor == np.max(cross_cor)][0]\n",
    "print(_best_shift)\n",
    "\n",
    "plt.figure()\n",
    "plt.plot(full_shift, cross_cor)\n",
    "plt.xlabel('img2 shift')\n",
    "plt.ylabel('cross correllation')\n",
    "plt.axvline(_best_shift, c='r')\n",
    "plt.show()\n",
    "    "
   ]
  },
  {
   "cell_type": "code",
   "execution_count": null,
   "metadata": {},
   "outputs": [],
   "source": [
    "def alignment_1d(fixed, moving, axis='x'): \n",
    "    '''\n",
    "    This method sums [x,y] 1 axis and transforms the data as zscore( log10(1+sum(axis)) ). \n",
    "    We then use cross correllation to test the optimal shift +/-. \n",
    "    The best shift is returned, previously non-existant pixels are introduced as zero values. \n",
    "\n",
    "    input\n",
    "        fixed   sitk.image  the image to align to \n",
    "        moving  sitk.image  the image to align\n",
    "        axis    str         the axis to align, can be 'x' or 'y'\n",
    "\n",
    "    output \n",
    "        int                 optimal number of pxiels to shift \n",
    "    '''\n",
    "\n",
    "    assert axis in ['x', 'y'], 'unrecognized axis type, can be either \"x\" or \"y\"'\n",
    "    _axis={'x':0, 'y':1}\n",
    "\n",
    "    def get_1d_arr(img):\n",
    "        img_arr = sitk.GetArrayFromImage(img)\n",
    "        arr1 = np.log10(np.sum(img_arr, axis=_axis[axis]) + 1) # take column sums - add one to avoid log10(0)\n",
    "        arr1 = (arr1 - arr1.mean())/arr1.std() # zscore to try and normalize - adjust for differences in intensities\n",
    "        return arr1\n",
    "\n",
    "    fixed_arr = get_1d_arr(fixed)\n",
    "    moving_arr = get_1d_arr(moving)\n",
    "\n",
    "    cross_cor = np.correlate(fixed_arr,moving_arr, 'full')\n",
    "    \n",
    "    full_shift = np.concatenate((np.arange(-moving_arr.shape[0], -1, 1), np.arange(0,fixed_arr.shape[0],1)))\n",
    "    _best_shift = full_shift[cross_cor == np.max(cross_cor)][0]\n",
    "\n",
    "    return _best_shift"
   ]
  },
  {
   "cell_type": "code",
   "execution_count": null,
   "metadata": {},
   "outputs": [],
   "source": [
    "def shift_image(img, ref, x, y): \n",
    "    '''\n",
    "    performs the resampling to shift the image properly. Can also be used to crop/expand to proper size. \n",
    "\n",
    "    input \n",
    "        img     sitk.Image      image to shift\n",
    "        ref\n",
    "        x       int             pixels to shift, can be negative or positive \n",
    "        y       int             pixels to shift, can be negative or positive \n",
    "\n",
    "    output \n",
    "        sitk.Image              shifted image\n",
    "    '''\n",
    "    translation = sitk.TranslationTransform(img.GetDimension())\n",
    "    x,y = float(x), float(y)\n",
    "    translation.SetOffset((-x,-y))\n",
    "    return sitk.Resample(img,\n",
    "                         ref, \n",
    "                         translation,\n",
    "                         sitk.sitkLinear,\n",
    "                         0)"
   ]
  },
  {
   "cell_type": "code",
   "execution_count": null,
   "metadata": {},
   "outputs": [],
   "source": [
    "img1 = imgs['R5_BCLxL.CD68.PD1.pATM_D1_2020_10_08__9273_c1_ORG.tif']\n",
    "img2 = imgs['R4_pATR.CCNB1.CD4.53BP1_D1_2020_10_07__9253_c1_ORG.tif']"
   ]
  },
  {
   "cell_type": "code",
   "execution_count": null,
   "metadata": {},
   "outputs": [],
   "source": [
    "x = alignment_1d(img1, img2, axis='x')\n",
    "y = alignment_1d(img1, img2, axis='y')\n",
    "print(x,y)\n",
    "print(type(x))"
   ]
  },
  {
   "cell_type": "code",
   "execution_count": null,
   "metadata": {},
   "outputs": [],
   "source": [
    "img2_shifted =shift_image(img2, img1, x, y)"
   ]
  },
  {
   "cell_type": "code",
   "execution_count": null,
   "metadata": {},
   "outputs": [],
   "source": [
    "print(img1.GetSize())\n",
    "print(img2_shifted.GetSize())"
   ]
  },
  {
   "cell_type": "code",
   "execution_count": null,
   "metadata": {},
   "outputs": [],
   "source": [
    "#downsample \n",
    "ds = 10\n",
    "img1_ds = img1[::ds, ::ds]# > 1\n",
    "img2_ds = img2_shifted[::ds, ::ds]# > 1\n",
    "\n",
    "# cast as float to avoid int overflow \n",
    "img1_ds = sitk.Cast(img1_ds, sitk.sitkFloat32)\n",
    "img2_ds = sitk.Cast(img2_ds, sitk.sitkFloat32)\n",
    "\n",
    "# take differnce\n",
    "sub = img1_ds - img2_ds\n",
    "\n",
    "# plot difference\n",
    "utils.myshow(sub, figsize=(10,10))"
   ]
  },
  {
   "cell_type": "code",
   "execution_count": null,
   "metadata": {},
   "outputs": [],
   "source": [
    "#downsample \n",
    "ds = 10\n",
    "img1_ds = img1[::ds, ::ds] > 1\n",
    "img2_ds = img2_shifted[::ds, ::ds] > 1\n",
    "\n",
    "\n",
    "# cast as float to avoid int overflow \n",
    "img1_ds = sitk.Cast(img1_ds, sitk.sitkFloat32)\n",
    "img2_ds = sitk.Cast(img2_ds, sitk.sitkFloat32)\n",
    "\n",
    "# take differnce\n",
    "sub = img1_ds - img2_ds\n",
    "\n",
    "# plot difference\n",
    "utils.myshow(sub, figsize=(10,10))"
   ]
  },
  {
   "cell_type": "code",
   "execution_count": null,
   "metadata": {},
   "outputs": [],
   "source": [
    "sitk.RescaleIntensity()"
   ]
  },
  {
   "cell_type": "code",
   "execution_count": null,
   "metadata": {},
   "outputs": [],
   "source": []
  },
  {
   "cell_type": "code",
   "execution_count": null,
   "metadata": {},
   "outputs": [],
   "source": []
  }
 ],
 "metadata": {
  "kernelspec": {
   "display_name": "Python 3",
   "language": "python",
   "name": "python3"
  },
  "language_info": {
   "codemirror_mode": {
    "name": "ipython",
    "version": 3
   },
   "file_extension": ".py",
   "mimetype": "text/x-python",
   "name": "python",
   "nbconvert_exporter": "python",
   "pygments_lexer": "ipython3",
   "version": "3.8.5"
  }
 },
 "nbformat": 4,
 "nbformat_minor": 4
}
