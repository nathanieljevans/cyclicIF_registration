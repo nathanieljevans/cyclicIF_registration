{
 "cells": [
  {
   "cell_type": "code",
   "execution_count": null,
   "metadata": {
    "scrolled": true
   },
   "outputs": [],
   "source": [
    "%%time\n",
    "# for development, changes in other modules have to be reloaded to reflect changes\n",
    "%load_ext autoreload\n",
    "%autoreload 1\n",
    "\n",
    "import pandas as pd \n",
    "import numpy as np \n",
    "from matplotlib import pyplot as plt \n",
    "import seaborn as sbn \n",
    "import os, sys\n",
    "import SimpleITK as sitk\n",
    "\n",
    "%aimport config \n",
    "sys.path.append(config.lib_dir)\n",
    "%aimport utils\n",
    "%aimport segment \n",
    "%aimport match \n",
    "%aimport register \n",
    "%aimport evaluate \n",
    "%aimport qc "
   ]
  },
  {
   "cell_type": "code",
   "execution_count": null,
   "metadata": {},
   "outputs": [],
   "source": [
    "_dir = !pwd\n",
    "print('this dir:', _dir[0])\n",
    "print('data dir:', config.data_dir) \n",
    "print('output dir:', config.output_dir)\n",
    "print('slide name:', config.slide_name)\n",
    "print('scene:', config.scene_name)"
   ]
  },
  {
   "cell_type": "markdown",
   "metadata": {},
   "source": [
    "# Overview "
   ]
  },
  {
   "cell_type": "code",
   "execution_count": null,
   "metadata": {},
   "outputs": [],
   "source": [
    "img_file_names = [x for x in os.listdir(config.data_dir) if x[-4:] == '.tif']\n",
    "parsed_names = pd.DataFrame([utils.parse_file_name(x) for x in img_file_names])\n",
    "parsed_names.head()"
   ]
  },
  {
   "cell_type": "code",
   "execution_count": null,
   "metadata": {},
   "outputs": [],
   "source": [
    "parsed_names2 = parsed_names[parsed_names.slide_name == config.slide_name]\n",
    "print('sanity check - scenes:', parsed_names2['scene'].unique())\n",
    "parsed_names3 = parsed_names2[parsed_names2.scene == config.scene_name]"
   ]
  },
  {
   "cell_type": "markdown",
   "metadata": {},
   "source": [
    "# Load images \n",
    "\n",
    "This can take a few (>30) minutes, grab a cup of tea. "
   ]
  },
  {
   "cell_type": "code",
   "execution_count": null,
   "metadata": {},
   "outputs": [],
   "source": [
    "%%time\n",
    "imgs = utils.load_imgs_mt(parsed_names3.original.values, config.data_dir, _type=sitk.sitkUInt16)"
   ]
  },
  {
   "cell_type": "code",
   "execution_count": null,
   "metadata": {},
   "outputs": [],
   "source": [
    "sys.path.append(config.script_dir)\n",
    "%aimport segment_and_match_cores"
   ]
  },
  {
   "cell_type": "code",
   "execution_count": null,
   "metadata": {
    "scrolled": true
   },
   "outputs": [],
   "source": [
    "segment_and_match_cores.main(config.data_dir, config.output_dir, config.slide_name, config.scene_name, _dir, imgs)"
   ]
  },
  {
   "cell_type": "code",
   "execution_count": null,
   "metadata": {},
   "outputs": [],
   "source": []
  },
  {
   "cell_type": "code",
   "execution_count": null,
   "metadata": {},
   "outputs": [],
   "source": []
  },
  {
   "cell_type": "markdown",
   "metadata": {},
   "source": [
    "# Segment R0 cores \n",
    "\n",
    "we'll down-sample our images to speed up the processing. "
   ]
  },
  {
   "cell_type": "code",
   "execution_count": null,
   "metadata": {},
   "outputs": [],
   "source": [
    "R0_dapi_name = parsed_names3[(parsed_names3.color_channel == 'c1') & (parsed_names3['round'] == 'R0')]\n",
    "\n",
    "R0_dapi_full = imgs[R0_dapi_name.original.item()]\n",
    "R0_dapi = R0_dapi_full[::config.downsample_proportion,::config.downsample_proportion]\n",
    "\n",
    "print('shape of downsampled R0:', R0_dapi.GetSize())\n",
    "\n",
    "utils.myshow(R0_dapi)"
   ]
  },
  {
   "cell_type": "code",
   "execution_count": null,
   "metadata": {
    "scrolled": false
   },
   "outputs": [],
   "source": [
    "%%time\n",
    "R0_dapi_stats, shape_stats = segment.segment_dapi_round(R0_dapi, plot=True, config=config)\n",
    "R0_dapi_stats.head()"
   ]
  },
  {
   "cell_type": "markdown",
   "metadata": {},
   "source": [
    "# generate core id mapping \n",
    "\n",
    "use the `out` argument to specify the output directory where the image should be saved. \n",
    "\n",
    "Make sure that you use downsampled R0-c1 (dapi) image and only the R0-c1 (dapi) stats. "
   ]
  },
  {
   "cell_type": "code",
   "execution_count": null,
   "metadata": {},
   "outputs": [],
   "source": [
    "segment.generate_core_id_map(R0_dapi, R0_dapi_stats, plot=True, config=config) "
   ]
  },
  {
   "cell_type": "markdown",
   "metadata": {},
   "source": [
    "# Choose core "
   ]
  },
  {
   "cell_type": "code",
   "execution_count": null,
   "metadata": {},
   "outputs": [],
   "source": [
    "segment.plot_cores(R0_dapi, R0_dapi_stats, config)"
   ]
  },
  {
   "cell_type": "code",
   "execution_count": null,
   "metadata": {},
   "outputs": [],
   "source": [
    "core_in = int(input('which core would you like to use? (integer):  '))\n",
    "print('you chose: ', core_in)\n",
    "\n",
    "R0_dapi_core = segment.select_core(R0_dapi_full, core_in, R0_dapi_stats, scale=config.downsample_proportion, config=config)\n",
    "\n",
    "utils.myshow(R0_dapi_core, f'core label: {core_in}')"
   ]
  },
  {
   "cell_type": "markdown",
   "metadata": {},
   "source": [
    "# match core labels across rounds "
   ]
  },
  {
   "cell_type": "code",
   "execution_count": null,
   "metadata": {
    "scrolled": false
   },
   "outputs": [],
   "source": [
    "%%time\n",
    "\n",
    "res = match.get_all_rounds_core_statistics(parsed_names3, imgs, verbose=False, config=config)\n"
   ]
  },
  {
   "cell_type": "code",
   "execution_count": null,
   "metadata": {},
   "outputs": [],
   "source": [
    "res['round'].unique()\n",
    "res.img_name.unique()"
   ]
  },
  {
   "cell_type": "code",
   "execution_count": null,
   "metadata": {},
   "outputs": [],
   "source": [
    "plt.figure(figsize=(7,7))\n",
    "\n",
    "for i, name in enumerate(parsed_names3.original.values):\n",
    "    print('plotting centers: ', name)\n",
    "    rgb = np.random.rand(3)\n",
    "    temp = res[res.img_name == name]\n",
    "    plt.plot(temp.center_x, temp.center_y, c=rgb, marker='.', alpha=0.5, linestyle='None')\n",
    "\n",
    "plt.show()"
   ]
  },
  {
   "cell_type": "code",
   "execution_count": null,
   "metadata": {},
   "outputs": [],
   "source": [
    "R0_nclus = res[lambda x: x['round']=='R0'].shape[0]\n",
    "R1_nclus = res[lambda x: x['round']=='R1'].shape[0]\n",
    "R2_nclus = res[lambda x: x['round']=='R2'].shape[0]\n",
    "\n",
    "print('number of clusters in each round:', (R0_nclus, R1_nclus, R2_nclus))"
   ]
  },
  {
   "cell_type": "markdown",
   "metadata": {},
   "source": [
    "## eps optimization \n",
    "\n",
    "You will need to update the `config.py` file manually. \n",
    "\n",
    "This is a naive optimization method, choose the region where we find the maximum number of correct cluster sizes. "
   ]
  },
  {
   "cell_type": "code",
   "execution_count": null,
   "metadata": {},
   "outputs": [],
   "source": [
    "num_of_rounds = parsed_names['round'].unique().shape[0]\n",
    "\n",
    "epss = []\n",
    "nright = []\n",
    "toomany = []\n",
    "toofew = []\n",
    "\n",
    "for _eps in np.arange(0.01, 0.35, 0.005): \n",
    "    try: \n",
    "        cluster_labels = match.match_cores_across_rounds(res, config=config, eps=_eps, verbose=False)\n",
    "\n",
    "        uniq, labels = np.unique(cluster_labels + 1, return_counts=True)\n",
    "        nright.append(np.unique(uniq[labels == num_of_rounds]).shape[0]) \n",
    "        toomany.append(np.unique(uniq[labels > num_of_rounds]).shape[0]) \n",
    "        toofew.append(np.unique(uniq[labels < num_of_rounds]).shape[0]) \n",
    "        epss.append(_eps)\n",
    "    except: \n",
    "        print('failed eps:', _eps)\n",
    "        raise\n",
    "\n",
    "plt.figure(figsize=(7,7))\n",
    "plt.plot(epss, nright, 'g', label='# correct')\n",
    "plt.plot(epss, toomany, 'c', label='# too large')\n",
    "plt.plot(epss, toofew, 'b', label='# too small')\n",
    "plt.xlabel('eps')\n",
    "plt.ylabel('number clusters with right number of members')\n",
    "plt.ylim((0,125))\n",
    "plt.axvline(config.eps, c='r', label='config eps')\n",
    "plt.legend()\n",
    "plt.show()           "
   ]
  },
  {
   "cell_type": "markdown",
   "metadata": {},
   "source": [
    "## run the matching "
   ]
  },
  {
   "cell_type": "code",
   "execution_count": null,
   "metadata": {},
   "outputs": [],
   "source": [
    "cluster_labels = match.match_cores_across_rounds(res, config=config)\n",
    "res = res.assign(cluster = cluster_labels)"
   ]
  },
  {
   "cell_type": "code",
   "execution_count": null,
   "metadata": {},
   "outputs": [],
   "source": [
    "plt.figure()\n",
    "plt.hist(cluster_labels, bins=len(np.unique(cluster_labels)))\n",
    "plt.ylabel('number of members in a cluster')\n",
    "plt.xlabel('cluster id')\n",
    "plt.show()\n",
    "\n",
    "num_of_rounds = parsed_names['round'].unique().shape[0]\n",
    "print('number of rounds:', num_of_rounds)\n",
    "\n",
    "uniq, labels = np.unique(cluster_labels + 1, return_counts=True)\n",
    "print('clusters with missing cores:', np.unique(uniq[labels < num_of_rounds]))"
   ]
  },
  {
   "cell_type": "code",
   "execution_count": null,
   "metadata": {},
   "outputs": [],
   "source": [
    "plt.figure(figsize=(12,12))\n",
    "sbn.scatterplot(x='center_x', y='center_y', hue='cluster', style='round', data=res)\n",
    "plt.show()"
   ]
  },
  {
   "cell_type": "markdown",
   "metadata": {},
   "source": [
    "## Inspect the matched data"
   ]
  },
  {
   "cell_type": "code",
   "execution_count": null,
   "metadata": {
    "scrolled": false
   },
   "outputs": [],
   "source": [
    "cluster_choice = res[(res['round'] == 'R0') & (res['component'] == core_in)].cluster.item()\n",
    "print('cluster choice:', cluster_choice)\n",
    "\n",
    "res_choice = res[res.cluster == cluster_choice]\n",
    "res_choice.head()\n",
    "\n",
    "selected_cores = {x:{'unregistered':{}} for x in res_choice['round'].unique()}\n",
    "\n",
    "f,axes = plt.subplots(num_of_rounds, 5, figsize=(3*5,3*num_of_rounds))\n",
    "\n",
    "for ax,(i, row) in zip(axes.flat, parsed_names3.sort_values(['round', 'color_channel']).reset_index(drop=True).iterrows()): \n",
    "    \n",
    "    print('progress:', i, end='\\r')\n",
    "    temp = res_choice[(res_choice.cluster == cluster_choice) & (res_choice['round'] == row['round'])]\n",
    "    \n",
    "    if temp.shape[0] == 0: \n",
    "        print('no image')\n",
    "        continue\n",
    "        #selected_cores[row['round']]['unregistered'][row.color_channel] = None\n",
    "        #continue\n",
    "        \n",
    "    _core = segment.select_core(imgs[row.original], temp.component, temp, scale=config.downsample_proportion, config=config)\n",
    "    \n",
    "    _core.SetOrigin((0,0))\n",
    "    \n",
    "    selected_cores[row['round']]['unregistered'][row.color_channel] = _core\n",
    "    \n",
    "    utils.myshow(_core, ax=ax)\n",
    "    \n",
    "    ax.set_title(row.color_channel)\n",
    "    if row.color_channel == 'c1': \n",
    "        ax.set_ylabel(row['round'])\n",
    "        ax.axes.yaxis.set_visible(True)\n",
    "    \n",
    "plt.tight_layout()\n",
    "plt.show()"
   ]
  },
  {
   "cell_type": "markdown",
   "metadata": {},
   "source": [
    "# Register Dapi Images \n"
   ]
  },
  {
   "cell_type": "code",
   "execution_count": null,
   "metadata": {
    "scrolled": false
   },
   "outputs": [],
   "source": [
    "%%time\n",
    "print('generating registration function...')\n",
    "for R in selected_cores.keys(): \n",
    "    if R == 'R0': continue\n",
    "    print('#'*20)\n",
    "    print('ROUND:', R)\n",
    "    print('#'*20)\n",
    "        \n",
    "    selected_cores[R]['reg_Tx'] = register.get_registration_transform(selected_cores['R0']['unregistered']['c1'], \n",
    "                                                                      selected_cores[R]['unregistered']['c1'], \n",
    "                                                                      verbose=True, config=config)"
   ]
  },
  {
   "cell_type": "code",
   "execution_count": null,
   "metadata": {},
   "outputs": [],
   "source": [
    "%%time\n",
    "print('preforming transformation...')\n",
    "for R in selected_cores.keys(): \n",
    "    selected_cores[R]['registered'] = {}\n",
    "    for c in selected_cores[R]['unregistered'].keys():\n",
    "        if R == 'R0':\n",
    "            # for convenience - fixed image\n",
    "            selected_cores[R]['registered'][c] = selected_cores[R]['unregistered'][c]\n",
    "        else:\n",
    "            print('registering:', (R, c))\n",
    "            # trasformed each channel using the dapi registration \n",
    "            selected_cores[R]['registered'][c] = register.preform_transformation(selected_cores['R0']['unregistered']['c1'],\n",
    "                                                                                     selected_cores[R]['unregistered']['c1'], \n",
    "                                                                                     selected_cores[R]['reg_Tx'])\n",
    "\n"
   ]
  },
  {
   "cell_type": "markdown",
   "metadata": {},
   "source": [
    "# Registration visualization \n",
    "\n",
    "We will combine the first 3 Dapi Rounds into a single image (round per channel). White indicates overlapping pixel intensities. Any non-white indicates differences in dapi image registrations. "
   ]
  },
  {
   "cell_type": "code",
   "execution_count": null,
   "metadata": {
    "scrolled": false
   },
   "outputs": [],
   "source": [
    "sigm1 = sitk.Cast(sitk.RescaleIntensity(selected_cores['R0']['registered']['c1']), sitk.sitkUInt8)\n",
    "sigm2 = sitk.Cast(sitk.RescaleIntensity(selected_cores['R1']['registered']['c1']), sitk.sitkUInt8)\n",
    "sigm3 = sitk.Cast(sitk.RescaleIntensity(selected_cores['R2']['registered']['c1']), sitk.sitkUInt8)\n",
    "\n",
    "cimg = sitk.Compose(sigm1, sigm2, sigm3)\n",
    "\n",
    "plt.figure(figsize=(12,12))\n",
    "plt.title('combined image')\n",
    "plt.imshow(sitk.GetArrayViewFromImage(cimg)) \n",
    "plt.show()"
   ]
  },
  {
   "cell_type": "markdown",
   "metadata": {},
   "source": [
    "\n",
    "# Zoom in for better clarity\n",
    "\n",
    "Change `wsize` below to change magnification"
   ]
  },
  {
   "cell_type": "code",
   "execution_count": null,
   "metadata": {
    "scrolled": false
   },
   "outputs": [],
   "source": [
    "plt.figure(figsize=(20,20))\n",
    "plt.title('combined image')\n",
    "\n",
    "wsize = 200\n",
    "x,y = cimg.GetSize()\n",
    "plt.imshow(sitk.GetArrayViewFromImage(cimg[int(x/2-wsize):int(x/2+wsize), int(y/2-wsize):int(y/2+wsize)])) \n",
    "plt.show()"
   ]
  },
  {
   "cell_type": "markdown",
   "metadata": {},
   "source": [
    "# Evaluating Registration \n",
    "\n",
    "To do this, we will follow the steps below:\n",
    "\n",
    "1. Apply detailed binary segmentation; ideally we want cell level features \n",
    "\n",
    "2. Apply transformation from (1) to each registered DAPI image\n",
    "\n",
    "3. Compare each subsequent registration mask and calculate success metrics \n",
    "\n",
    "\n",
    "## Below is the R0-DAPI image segmentation \n",
    "\n",
    "Inspect this, it should have decent cell level features. "
   ]
  },
  {
   "cell_type": "code",
   "execution_count": null,
   "metadata": {},
   "outputs": [],
   "source": [
    "R0_dapi_seg = segment.perform_otsu_threshold(selected_cores['R0']['registered']['c1'])\n",
    "utils.myshow(R0_dapi_seg)"
   ]
  },
  {
   "cell_type": "code",
   "execution_count": null,
   "metadata": {
    "scrolled": false
   },
   "outputs": [],
   "source": [
    "reg_res = []\n",
    "for R in selected_cores.keys():\n",
    "    print(f'Round: {R} -> R0')\n",
    "    reg_res.append(evaluate.eval_registration(selected_cores['R0']['registered']['c1'],\n",
    "                                           selected_cores[R]['registered']['c1'], \n",
    "                                           f'{R}->R0;core-{core_in}'))\n",
    "\n",
    "reg_res = pd.DataFrame(reg_res, index=range(len(reg_res)))\n",
    "reg_res"
   ]
  },
  {
   "cell_type": "code",
   "execution_count": null,
   "metadata": {},
   "outputs": [],
   "source": [
    "name\tjacaard_coef\tdice_coef\tvolume_similarity\tfalse_neg_err\tfalse_pos_err\thausdorff_dist\n",
    "0\tR0->R0;core-4\t1.000000\t1.000000\t0.000000\t0.000000\t0.000000\t0.000000\n",
    "1\tR1->R0;core-4\t0.481367\t0.649895\t-0.099984\t0.381047\t0.315905\t1.000000\n",
    "2\tR2->R0;core-4\t0.438933\t0.610081\t0.326291\t0.270983\t0.475490\t18.973666\n",
    "3\tR3->R0;core-4\t0.490903\t0.658531\t0.158110\t0.284940\t0.389715\t313.209195\n",
    "4\tR4->R0;core-4\t0.519363\t0.683659\t0.175442\t0.250603\t0.371476\t368.989160\n",
    "5\tR5->R0;core-4\t0.115840\t0.207629\t0.768025\t0.662934\t0.849981\t282.349075\n",
    "6\tR6->R0;core-4\t0.112920\t0.202925\t0.758949\t0.672979\t0.852897\t255.978515\n",
    "7\tR7->R0;core-4\t0.484164\t0.652440\t0.204514\t0.273244\t0.408087\t264.463608\n",
    "8\tR8->R0;core-4\t0.113218\t0.203407\t0.759808\t0.671976\t0.852594\t221.199005\n",
    "9\tR9->R0;core-4\t0.466016\t0.635758\t0.136710\t0.317596\t0.404918\t266.294949"
   ]
  },
  {
   "cell_type": "code",
   "execution_count": null,
   "metadata": {},
   "outputs": [],
   "source": []
  }
 ],
 "metadata": {
  "kernelspec": {
   "display_name": "Python 3",
   "language": "python",
   "name": "python3"
  },
  "language_info": {
   "codemirror_mode": {
    "name": "ipython",
    "version": 3
   },
   "file_extension": ".py",
   "mimetype": "text/x-python",
   "name": "python",
   "nbconvert_exporter": "python",
   "pygments_lexer": "ipython3",
   "version": "3.8.5"
  }
 },
 "nbformat": 4,
 "nbformat_minor": 4
}
