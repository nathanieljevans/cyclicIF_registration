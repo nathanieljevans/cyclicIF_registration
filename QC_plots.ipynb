{
 "cells": [
  {
   "cell_type": "code",
   "execution_count": 1,
   "metadata": {},
   "outputs": [
    {
     "name": "stdout",
     "output_type": "stream",
     "text": [
      "CPU times: user 672 ms, sys: 797 ms, total: 1.47 s\n",
      "Wall time: 1.54 s\n"
     ]
    }
   ],
   "source": [
    "%%time\n",
    "# for development, changes in other modules have to be reloaded to reflect changes\n",
    "%load_ext autoreload\n",
    "%autoreload 1\n",
    "\n",
    "import pandas as pd \n",
    "import numpy as np \n",
    "from matplotlib import pyplot as plt \n",
    "import seaborn as sbn \n",
    "import os, sys\n",
    "import SimpleITK as sitk\n",
    "\n",
    "%aimport config \n",
    "sys.path.append(config.lib_dir)\n",
    "%aimport utils\n",
    "%aimport segment \n",
    "%aimport match \n",
    "%aimport register \n",
    "%aimport evaluate \n",
    "%aimport qc "
   ]
  },
  {
   "cell_type": "markdown",
   "metadata": {},
   "source": [
    "From readme...\n",
    "\n",
    "\n",
    "manual QC can be performed by passing either a dictionary (in results.ipynb) or as a json file (restitch_cores.py --qc /path/to/file.json) of cores that should not be restiched. For an example of a properly formatted json file, see here.\n",
    "\n",
    "```json\n",
    "{\n",
    "    \"R0\":[23,3,42,35,19,79,17,22],\n",
    "    \"R1\":[15,12,60,54,48,38,70,62],\n",
    "    \"R2\":[30,46,8,24,80,9,31,44,76]\n",
    "}\n",
    "```"
   ]
  },
  {
   "cell_type": "code",
   "execution_count": 2,
   "metadata": {},
   "outputs": [],
   "source": [
    "# These must be adjusted to your specific experiment\n",
    "unreg_path    = '/mnt/z/Marilyne/Axioscan/5_Pejovic/Tiffs/Registration/'\n",
    "reg_path      = './registered_imgs/'\n",
    "results_path  = './registered_cores/aggregated_results.csv'\n",
    "slide_name    = 'S3'\n",
    "scene_name    = 'Scene-1'"
   ]
  },
  {
   "cell_type": "code",
   "execution_count": 3,
   "metadata": {},
   "outputs": [
    {
     "data": {
      "text/html": [
       "<div>\n",
       "<style scoped>\n",
       "    .dataframe tbody tr th:only-of-type {\n",
       "        vertical-align: middle;\n",
       "    }\n",
       "\n",
       "    .dataframe tbody tr th {\n",
       "        vertical-align: top;\n",
       "    }\n",
       "\n",
       "    .dataframe thead th {\n",
       "        text-align: right;\n",
       "    }\n",
       "</style>\n",
       "<table border=\"1\" class=\"dataframe\">\n",
       "  <thead>\n",
       "    <tr style=\"text-align: right;\">\n",
       "      <th></th>\n",
       "      <th>status</th>\n",
       "      <th>core</th>\n",
       "      <th>round</th>\n",
       "      <th>color_channel</th>\n",
       "      <th>path</th>\n",
       "      <th>img_name</th>\n",
       "      <th>protein</th>\n",
       "      <th>center_x</th>\n",
       "      <th>center_y</th>\n",
       "      <th>width</th>\n",
       "      <th>...</th>\n",
       "      <th>scene</th>\n",
       "      <th>note</th>\n",
       "      <th>jacaard_coef</th>\n",
       "      <th>dice_coef</th>\n",
       "      <th>volume_similarity</th>\n",
       "      <th>false_pos_err</th>\n",
       "      <th>false_neg_err</th>\n",
       "      <th>hausdorff_dist</th>\n",
       "      <th>registered_path</th>\n",
       "      <th>round_num</th>\n",
       "    </tr>\n",
       "  </thead>\n",
       "  <tbody>\n",
       "    <tr>\n",
       "      <th>0</th>\n",
       "      <td>registered</td>\n",
       "      <td>1</td>\n",
       "      <td>R10</td>\n",
       "      <td>c1</td>\n",
       "      <td>registered_core=1_round=R10_color=c1.tif</td>\n",
       "      <td>R10_r10c2.CA9.pAKT.Ecad_S3_2020_02_05__13581-S...</td>\n",
       "      <td>r10c2.CA9.pAKT.Ecad</td>\n",
       "      <td>297</td>\n",
       "      <td>1056</td>\n",
       "      <td>105</td>\n",
       "      <td>...</td>\n",
       "      <td>Scene-1</td>\n",
       "      <td>ORG</td>\n",
       "      <td>0.354765</td>\n",
       "      <td>0.523729</td>\n",
       "      <td>0.742089</td>\n",
       "      <td>0.618007</td>\n",
       "      <td>0.167303</td>\n",
       "      <td>476.707465</td>\n",
       "      <td>/mnt/d/cyclicIF_outputs/5_Pejovic/S3/registere...</td>\n",
       "      <td>10</td>\n",
       "    </tr>\n",
       "    <tr>\n",
       "      <th>1</th>\n",
       "      <td>registered</td>\n",
       "      <td>1</td>\n",
       "      <td>R10</td>\n",
       "      <td>c2</td>\n",
       "      <td>registered_core=1_round=R10_color=c2.tif</td>\n",
       "      <td>NaN</td>\n",
       "      <td>NaN</td>\n",
       "      <td>297</td>\n",
       "      <td>1056</td>\n",
       "      <td>105</td>\n",
       "      <td>...</td>\n",
       "      <td>Scene-1</td>\n",
       "      <td>ORG</td>\n",
       "      <td>0.354765</td>\n",
       "      <td>0.523729</td>\n",
       "      <td>0.742089</td>\n",
       "      <td>0.618007</td>\n",
       "      <td>0.167303</td>\n",
       "      <td>476.707465</td>\n",
       "      <td>/mnt/d/cyclicIF_outputs/5_Pejovic/S3/registere...</td>\n",
       "      <td>10</td>\n",
       "    </tr>\n",
       "    <tr>\n",
       "      <th>2</th>\n",
       "      <td>registered</td>\n",
       "      <td>1</td>\n",
       "      <td>R10</td>\n",
       "      <td>c3</td>\n",
       "      <td>registered_core=1_round=R10_color=c3.tif</td>\n",
       "      <td>NaN</td>\n",
       "      <td>NaN</td>\n",
       "      <td>297</td>\n",
       "      <td>1056</td>\n",
       "      <td>105</td>\n",
       "      <td>...</td>\n",
       "      <td>Scene-1</td>\n",
       "      <td>ORG</td>\n",
       "      <td>0.354765</td>\n",
       "      <td>0.523729</td>\n",
       "      <td>0.742089</td>\n",
       "      <td>0.618007</td>\n",
       "      <td>0.167303</td>\n",
       "      <td>476.707465</td>\n",
       "      <td>/mnt/d/cyclicIF_outputs/5_Pejovic/S3/registere...</td>\n",
       "      <td>10</td>\n",
       "    </tr>\n",
       "    <tr>\n",
       "      <th>3</th>\n",
       "      <td>registered</td>\n",
       "      <td>1</td>\n",
       "      <td>R10</td>\n",
       "      <td>c4</td>\n",
       "      <td>registered_core=1_round=R10_color=c4.tif</td>\n",
       "      <td>NaN</td>\n",
       "      <td>NaN</td>\n",
       "      <td>297</td>\n",
       "      <td>1056</td>\n",
       "      <td>105</td>\n",
       "      <td>...</td>\n",
       "      <td>Scene-1</td>\n",
       "      <td>ORG</td>\n",
       "      <td>0.354765</td>\n",
       "      <td>0.523729</td>\n",
       "      <td>0.742089</td>\n",
       "      <td>0.618007</td>\n",
       "      <td>0.167303</td>\n",
       "      <td>476.707465</td>\n",
       "      <td>/mnt/d/cyclicIF_outputs/5_Pejovic/S3/registere...</td>\n",
       "      <td>10</td>\n",
       "    </tr>\n",
       "    <tr>\n",
       "      <th>4</th>\n",
       "      <td>registered</td>\n",
       "      <td>1</td>\n",
       "      <td>R10</td>\n",
       "      <td>c5</td>\n",
       "      <td>registered_core=1_round=R10_color=c5.tif</td>\n",
       "      <td>NaN</td>\n",
       "      <td>NaN</td>\n",
       "      <td>297</td>\n",
       "      <td>1056</td>\n",
       "      <td>105</td>\n",
       "      <td>...</td>\n",
       "      <td>Scene-1</td>\n",
       "      <td>ORG</td>\n",
       "      <td>0.354765</td>\n",
       "      <td>0.523729</td>\n",
       "      <td>0.742089</td>\n",
       "      <td>0.618007</td>\n",
       "      <td>0.167303</td>\n",
       "      <td>476.707465</td>\n",
       "      <td>/mnt/d/cyclicIF_outputs/5_Pejovic/S3/registere...</td>\n",
       "      <td>10</td>\n",
       "    </tr>\n",
       "  </tbody>\n",
       "</table>\n",
       "<p>5 rows × 33 columns</p>\n",
       "</div>"
      ],
      "text/plain": [
       "       status  core round color_channel  \\\n",
       "0  registered     1   R10            c1   \n",
       "1  registered     1   R10            c2   \n",
       "2  registered     1   R10            c3   \n",
       "3  registered     1   R10            c4   \n",
       "4  registered     1   R10            c5   \n",
       "\n",
       "                                       path  \\\n",
       "0  registered_core=1_round=R10_color=c1.tif   \n",
       "1  registered_core=1_round=R10_color=c2.tif   \n",
       "2  registered_core=1_round=R10_color=c3.tif   \n",
       "3  registered_core=1_round=R10_color=c4.tif   \n",
       "4  registered_core=1_round=R10_color=c5.tif   \n",
       "\n",
       "                                            img_name              protein  \\\n",
       "0  R10_r10c2.CA9.pAKT.Ecad_S3_2020_02_05__13581-S...  r10c2.CA9.pAKT.Ecad   \n",
       "1                                                NaN                  NaN   \n",
       "2                                                NaN                  NaN   \n",
       "3                                                NaN                  NaN   \n",
       "4                                                NaN                  NaN   \n",
       "\n",
       "   center_x  center_y  width  ...    scene  note  jacaard_coef  dice_coef  \\\n",
       "0       297      1056    105  ...  Scene-1   ORG      0.354765   0.523729   \n",
       "1       297      1056    105  ...  Scene-1   ORG      0.354765   0.523729   \n",
       "2       297      1056    105  ...  Scene-1   ORG      0.354765   0.523729   \n",
       "3       297      1056    105  ...  Scene-1   ORG      0.354765   0.523729   \n",
       "4       297      1056    105  ...  Scene-1   ORG      0.354765   0.523729   \n",
       "\n",
       "   volume_similarity  false_pos_err  false_neg_err  hausdorff_dist  \\\n",
       "0           0.742089       0.618007       0.167303      476.707465   \n",
       "1           0.742089       0.618007       0.167303      476.707465   \n",
       "2           0.742089       0.618007       0.167303      476.707465   \n",
       "3           0.742089       0.618007       0.167303      476.707465   \n",
       "4           0.742089       0.618007       0.167303      476.707465   \n",
       "\n",
       "                                     registered_path  round_num  \n",
       "0  /mnt/d/cyclicIF_outputs/5_Pejovic/S3/registere...         10  \n",
       "1  /mnt/d/cyclicIF_outputs/5_Pejovic/S3/registere...         10  \n",
       "2  /mnt/d/cyclicIF_outputs/5_Pejovic/S3/registere...         10  \n",
       "3  /mnt/d/cyclicIF_outputs/5_Pejovic/S3/registere...         10  \n",
       "4  /mnt/d/cyclicIF_outputs/5_Pejovic/S3/registere...         10  \n",
       "\n",
       "[5 rows x 33 columns]"
      ]
     },
     "execution_count": 3,
     "metadata": {},
     "output_type": "execute_result"
    }
   ],
   "source": [
    "res = pd.read_csv(results_path)\n",
    "\n",
    "res = res.assign(round_num = [int(x[1:]) for x in res['round'].values])\n",
    "\n",
    "# select only registered results -- keep R0 unregistered as this is the aligned reference \n",
    "reg_res = res[(res.status == 'registered') | (res['round'] == 'R0')]\n",
    "\n",
    "reg_res.head()"
   ]
  },
  {
   "cell_type": "markdown",
   "metadata": {},
   "source": [
    "# Registration Success Distribution \n",
    "\n",
    "We'll use `dice coefficient` as our registration metric. "
   ]
  },
  {
   "cell_type": "code",
   "execution_count": 4,
   "metadata": {},
   "outputs": [
    {
     "data": {
      "text/plain": [
       "<AxesSubplot:xlabel='dice_coef', ylabel='Count'>"
      ]
     },
     "execution_count": 4,
     "metadata": {},
     "output_type": "execute_result"
    },
    {
     "data": {
      "image/png": "[encoded data removed]",
      "text/plain": [
       "<Figure size 432x288 with 1 Axes>"
      ]
     },
     "metadata": {
      "needs_background": "light"
     },
     "output_type": "display_data"
    }
   ],
   "source": [
    "sbn.histplot(x='dice_coef', data=reg_res)"
   ]
  },
  {
   "cell_type": "markdown",
   "metadata": {},
   "source": [
    "# Evaluate the effect of `Round` on registration"
   ]
  },
  {
   "cell_type": "code",
   "execution_count": 5,
   "metadata": {},
   "outputs": [
    {
     "data": {
      "text/plain": [
       "<AxesSubplot:xlabel='round_num', ylabel='dice_coef'>"
      ]
     },
     "execution_count": 5,
     "metadata": {},
     "output_type": "execute_result"
    },
    {
     "data": {
      "image/png": "[encoded data removed]",
      "text/plain": [
       "<Figure size 432x288 with 1 Axes>"
      ]
     },
     "metadata": {
      "needs_background": "light"
     },
     "output_type": "display_data"
    }
   ],
   "source": [
    "sbn.regplot(x='round_num', y='dice_coef', data=reg_res)"
   ]
  },
  {
   "cell_type": "markdown",
   "metadata": {},
   "source": [
    "# Evaluate `core label` interaction with registration\n",
    "\n",
    "core labels are assigned based on size of the segmented core in the R0 dapi round."
   ]
  },
  {
   "cell_type": "code",
   "execution_count": 6,
   "metadata": {},
   "outputs": [
    {
     "data": {
      "text/plain": [
       "<AxesSubplot:xlabel='core', ylabel='dice_coef'>"
      ]
     },
     "execution_count": 6,
     "metadata": {},
     "output_type": "execute_result"
    },
    {
     "data": {
      "image/png": "[encoded data removed]",
      "text/plain": [
       "<Figure size 432x288 with 1 Axes>"
      ]
     },
     "metadata": {
      "needs_background": "light"
     },
     "output_type": "display_data"
    }
   ],
   "source": [
    "sbn.regplot(x='core', y='dice_coef', data=reg_res)"
   ]
  },
  {
   "cell_type": "markdown",
   "metadata": {},
   "source": [
    "# Core size and registration"
   ]
  },
  {
   "cell_type": "code",
   "execution_count": 7,
   "metadata": {},
   "outputs": [
    {
     "data": {
      "text/plain": [
       "<AxesSubplot:xlabel='Volume (nm^3)', ylabel='dice_coef'>"
      ]
     },
     "execution_count": 7,
     "metadata": {},
     "output_type": "execute_result"
    },
    {
     "data": {
      "image/png": "[encoded data removed]",
      "text/plain": [
       "<Figure size 432x288 with 1 Axes>"
      ]
     },
     "metadata": {
      "needs_background": "light"
     },
     "output_type": "display_data"
    }
   ],
   "source": [
    "sbn.regplot(x='Volume (nm^3)', y='dice_coef', data=reg_res)"
   ]
  },
  {
   "cell_type": "markdown",
   "metadata": {},
   "source": [
    "# Core position (x,y) on registration"
   ]
  },
  {
   "cell_type": "code",
   "execution_count": 8,
   "metadata": {},
   "outputs": [
    {
     "data": {
      "text/plain": [
       "<AxesSubplot:xlabel='center_x', ylabel='dice_coef'>"
      ]
     },
     "execution_count": 8,
     "metadata": {},
     "output_type": "execute_result"
    },
    {
     "data": {
      "image/png": "[encoded data removed]",
      "text/plain": [
       "<Figure size 432x288 with 1 Axes>"
      ]
     },
     "metadata": {
      "needs_background": "light"
     },
     "output_type": "display_data"
    }
   ],
   "source": [
    "sbn.regplot(x='center_x', y='dice_coef', data=reg_res)"
   ]
  },
  {
   "cell_type": "code",
   "execution_count": 9,
   "metadata": {},
   "outputs": [
    {
     "data": {
      "text/plain": [
       "<AxesSubplot:xlabel='center_y', ylabel='dice_coef'>"
      ]
     },
     "execution_count": 9,
     "metadata": {},
     "output_type": "execute_result"
    },
    {
     "data": {
      "image/png": "[encoded data removed]",
      "text/plain": [
       "<Figure size 432x288 with 1 Axes>"
      ]
     },
     "metadata": {
      "needs_background": "light"
     },
     "output_type": "display_data"
    }
   ],
   "source": [
    "sbn.regplot(x='center_y', y='dice_coef', data=reg_res)"
   ]
  },
  {
   "cell_type": "markdown",
   "metadata": {},
   "source": [
    "# Regress out round effects \n",
    "\n",
    "One option is to try and remove the effects of degraded or missing tissue which accumulates throug the rounds by regressing out or centering each round. \n",
    "\n",
    "This assumes that each round's *majority* of cores register well. If this is not the case, then this can seriously effect the usefulness of QC. "
   ]
  },
  {
   "cell_type": "code",
   "execution_count": 10,
   "metadata": {},
   "outputs": [],
   "source": [
    "stats = reg_res.groupby('round')['dice_coef'].agg(['mean', 'std']).reset_index()\n",
    "stats=stats.rename({'mean':'mean_dice', 'std':'std_dice'}, axis=1)\n",
    "reg_res = reg_res.merge(stats, on ='round', how='left').assign(dice_zeroed=lambda x: x.dice_coef - x.mean_dice)"
   ]
  },
  {
   "cell_type": "code",
   "execution_count": 11,
   "metadata": {},
   "outputs": [
    {
     "data": {
      "image/png": "[encoded data removed]",
      "text/plain": [
       "<Figure size 1080x360 with 2 Axes>"
      ]
     },
     "metadata": {
      "needs_background": "light"
     },
     "output_type": "display_data"
    }
   ],
   "source": [
    "f, axes = plt.subplots(1,2, figsize=(15,5))\n",
    "axes[0].set_xlabel('dice coefficient')\n",
    "axes[0].hist(reg_res.dice_coef, bins=100)\n",
    "\n",
    "axes[1].set_xlabel('round-regressed dice coefficient')\n",
    "axes[1].hist(reg_res.dice_zeroed, bins=100)\n",
    "\n",
    "plt.show()"
   ]
  },
  {
   "cell_type": "code",
   "execution_count": null,
   "metadata": {},
   "outputs": [],
   "source": []
  },
  {
   "cell_type": "code",
   "execution_count": null,
   "metadata": {},
   "outputs": [],
   "source": []
  }
 ],
 "metadata": {
  "kernelspec": {
   "display_name": "Python 3",
   "language": "python",
   "name": "python3"
  },
  "language_info": {
   "codemirror_mode": {
    "name": "ipython",
    "version": 3
   },
   "file_extension": ".py",
   "mimetype": "text/x-python",
   "name": "python",
   "nbconvert_exporter": "python",
   "pygments_lexer": "ipython3",
   "version": "3.8.5"
  }
 },
 "nbformat": 4,
 "nbformat_minor": 4
}
