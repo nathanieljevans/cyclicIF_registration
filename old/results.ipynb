{
 "cells": [
  {
   "cell_type": "code",
   "execution_count": null,
   "metadata": {
    "scrolled": false
   },
   "outputs": [],
   "source": [
    "%load_ext autoreload\n",
    "%autoreload 1\n",
    "print('autoreload')\n",
    "\n",
    "import SimpleITK as sitk\n",
    "import os, sys\n",
    "\n",
    "print('simpleitk,os,sys')\n",
    "\n",
    "%aimport config \n",
    "sys.path.append(config.lib_dir)\n",
    "%aimport utils\n",
    "%aimport segment \n",
    "%aimport match \n",
    "%aimport register \n",
    "%aimport evaluate \n",
    "%aimport qc \n",
    "\n",
    "print('libs')\n",
    "\n",
    "import pandas as pd\n",
    "from matplotlib import pyplot as plt\n",
    "import numpy as np\n",
    "import seaborn as sbn\n",
    "\n",
    "print('other')\n",
    "\n",
    "from ipywidgets import interact, interactive, fixed, interact_manual\n",
    "import ipywidgets as widgets\n",
    "from IPython.display import display, clear_output\n",
    "\n",
    "pd.set_option('display.max_columns', None)\n",
    "# May be necessary to \"Trust\" the notebook in order to get the widgets to work. \n",
    "\n",
    "import time\n",
    "import threading\n",
    "#import multiprocessing\n",
    "#from mantichora import mantichora\n",
    "\n",
    "# the seaborn warnings are annoying\n",
    "import warnings\n",
    "warnings.filterwarnings('ignore')"
   ]
  },
  {
   "cell_type": "markdown",
   "metadata": {},
   "source": [
    "# Results Visualization \n",
    "\n",
    "Tool for interacting with results on exahead. \n",
    "\n",
    "\n",
    "## Overview\n",
    "\n",
    "The file `aggregated_results.csv` is formed from three different sources: \n",
    "- each core-directory's parsed names: This contains the core name and the absolute path; This can be used to track and organize the data.\n",
    "- the original core segmentation stats: this will include the original file name and segmentation statistics. \n",
    "- registration results: This contains registration success metrics \n",
    "\n",
    "Because of this, there is substantial missingness between row observations depending on which source it came from. \n",
    "\n",
    "## Data Dictionary \n",
    "\n"
   ]
  },
  {
   "cell_type": "code",
   "execution_count": null,
   "metadata": {},
   "outputs": [],
   "source": [
    "data_dict = pd.read_csv('./workflow/libs/data_dict.csv', sep='\\t')\n",
    "#data_dict"
   ]
  },
  {
   "cell_type": "code",
   "execution_count": null,
   "metadata": {},
   "outputs": [],
   "source": [
    "w = widgets.Dropdown(\n",
    "    options=data_dict.name.values,\n",
    "    value=data_dict.name.values[0],\n",
    "    description='feature name',\n",
    ")\n",
    "\n",
    "def on_change(change):\n",
    "    if change['type'] == 'change' and change['name'] == 'value': \n",
    "        print(data_dict[lambda x: x.name == change[\"new\"]]['def'].item(), end='\\r')\n",
    "\n",
    "w.observe(on_change)\n",
    "display(w)"
   ]
  },
  {
   "cell_type": "markdown",
   "metadata": {},
   "source": [
    "# Read registration results into memory"
   ]
  },
  {
   "cell_type": "code",
   "execution_count": null,
   "metadata": {
    "scrolled": false
   },
   "outputs": [],
   "source": [
    "res = pd.read_csv('/mnt/e/CycIF_analysis/registration_outputs/test_core_reg/aggregated_results.csv')\n",
    "\n",
    "# select only registered results -- keep R0 unregistered as this is the aligned reference \n",
    "res = res[(res.status == 'registered') | (res['round'] == 'R0')]\n",
    "\n",
    "res.head()"
   ]
  },
  {
   "cell_type": "markdown",
   "metadata": {},
   "source": [
    "## Available experiments \n",
    "\n",
    "### Choose experiment from drop down menu"
   ]
  },
  {
   "cell_type": "code",
   "execution_count": null,
   "metadata": {},
   "outputs": [],
   "source": [
    "options = res[['slide_name', 'scene']].drop_duplicates().dropna()\n",
    "\n",
    "opt = [f'{x.slide_name} - {x.scene}' for i,x in options.iterrows()]\n",
    "_exp = widgets.Dropdown(\n",
    "    options=opt,\n",
    "    value=opt[0],\n",
    "    description='Experiment',\n",
    "    disabled=False,\n",
    ")\n",
    "_exp"
   ]
  },
  {
   "cell_type": "markdown",
   "metadata": {},
   "source": [
    "### filter the aggregated results "
   ]
  },
  {
   "cell_type": "code",
   "execution_count": null,
   "metadata": {},
   "outputs": [],
   "source": [
    "SLIDE, SCENE = _exp.value.split(' - ')\n",
    "res = res[(res.slide_name == SLIDE) & (res.scene == SCENE)]"
   ]
  },
  {
   "cell_type": "markdown",
   "metadata": {},
   "source": [
    "## Registration results "
   ]
  },
  {
   "cell_type": "markdown",
   "metadata": {},
   "source": [
    "# Registration Results \n",
    "\n",
    "Why is there such clear separation between rounds? \n",
    "- something to do with lost material? I guess we would expect later rounds to register more poorly... \n",
    "\n",
    "Note: R1 has better metrics than R2. "
   ]
  },
  {
   "cell_type": "code",
   "execution_count": null,
   "metadata": {},
   "outputs": [],
   "source": [
    "# select only the DAPI results\n",
    "regRes = res[res.color_channel == 'c1']\n",
    "vizRes = regRes[['round',*'jacaard_coef,dice_coef,volume_similarity,false_neg_err,false_pos_err,hausdorff_dist'.split(',')]]\n",
    "\n",
    "# basic stats\n",
    "vizRes.describe()"
   ]
  },
  {
   "cell_type": "code",
   "execution_count": null,
   "metadata": {
    "scrolled": false
   },
   "outputs": [],
   "source": [
    "g = sbn.PairGrid(vizRes, hue='round')\n",
    "g.map_upper(sbn.scatterplot)\n",
    "g.map_diag(sbn.histplot)\n",
    "g.map_lower(sbn.kdeplot)\n",
    "g.add_legend()"
   ]
  },
  {
   "cell_type": "markdown",
   "metadata": {},
   "source": [
    "## Manual thresholding \n",
    "\n",
    "We'll just use rational thresholds for now. Need further verification and tuning. "
   ]
  },
  {
   "cell_type": "code",
   "execution_count": null,
   "metadata": {},
   "outputs": [],
   "source": [
    "# for the top row, higher is better \n",
    "# for the bottom row, lower is better \n",
    "\n",
    "f, axes = plt.subplots(2,3, figsize=(12,6))\n",
    "\n",
    "for name,ax in zip(vizRes.columns.values[1:], axes.flat): \n",
    "    ax.hist(vizRes[name], bins=25, density=True)\n",
    "    ax.set_title(name)\n",
    "\n",
    "# add thresholds for viz     \n",
    "axes.flat[3].axvline(config.FNR_threshold, c='r')  \n",
    "axes.flat[4].axvline(config.FPR_threshold, c='r')\n",
    "axes.flat[5].axvline(config.hausdorff_distance_threshold, c='r')\n",
    "\n",
    "plt.tight_layout()\n",
    "plt.show()"
   ]
  },
  {
   "cell_type": "code",
   "execution_count": null,
   "metadata": {},
   "outputs": [],
   "source": [
    "outRes = regRes[lambda x: x['dice_coef'] < 0.35] #regRes[lambda x: (x.false_pos_err > config.FPR_threshold) | (x.false_neg_err > config.FNR_threshold) | (x.hausdorff_dist > config.hausdorff_distance_threshold)]\n",
    "\n",
    "print(f'number of outliers: {outRes.shape[0]}/{regRes.shape[0]} [{100*outRes.shape[0]/regRes.shape[0]:.1f}%]')"
   ]
  },
  {
   "cell_type": "markdown",
   "metadata": {},
   "source": [
    "## inspect possible outliers"
   ]
  },
  {
   "cell_type": "code",
   "execution_count": null,
   "metadata": {
    "scrolled": false
   },
   "outputs": [],
   "source": [
    "# for each core \n",
    "for i, row in outRes.iterrows(): \n",
    "    #print(row) # uncomment this to see all information\n",
    "    print('#'*50)\n",
    "    print(row['img_name'])\n",
    "    print('#'*50)\n",
    "    print('jacaard:', row.jacaard_coef)\n",
    "    print('dice:', row.dice_coef)\n",
    "    print('volume similarity:', row.volume_similarity)\n",
    "    print('FPR:', row.false_pos_err)\n",
    "    print('FNR:', row.false_neg_err)\n",
    "    print('hausdorff dist:', row.hausdorff_dist)\n",
    "    img = sitk.ReadImage(row.registered_path)\n",
    "    #utils.myshow(img)\n",
    "    \n",
    "    R0_dapi_path = f'{\"/\".join(row.registered_path.split(\"/\")[:-1])}/unregistered_core={int(row.core)}_round=R0_color=c1.tif'\n",
    "    \n",
    "    R0_img = sitk.ReadImage(R0_dapi_path)\n",
    "    #utils.myshow(img)\n",
    "    \n",
    "    f, axes = plt.subplots(1,2, figsize=(7,14))\n",
    "    utils.myshow(R0_img, title='fixed', ax=axes[0])\n",
    "    utils.myshow(img, title='moving', ax=axes[1])\n",
    "    \n",
    "    _res = evaluate.eval_registration(R0_img, img, name='for disp', plot=True)\n",
    "    print('for comparison:')\n",
    "    print(_res)\n"
   ]
  },
  {
   "cell_type": "markdown",
   "metadata": {},
   "source": [
    "# Registration Visualization\n",
    "\n",
    "Build in some interactive widgets to visualize mapping. eg scroll select for which core(1) and round(R0 + 2) to include. \n",
    "\n",
    "Just a convenient way to pan through and visualize images. "
   ]
  },
  {
   "cell_type": "code",
   "execution_count": null,
   "metadata": {},
   "outputs": [],
   "source": [
    "qc.choose_and_plot_core(config)"
   ]
  },
  {
   "cell_type": "markdown",
   "metadata": {},
   "source": [
    "# Recombine images\n"
   ]
  },
  {
   "cell_type": "code",
   "execution_count": null,
   "metadata": {
    "scrolled": true
   },
   "outputs": [],
   "source": [
    "res = pd.read_csv('/home/exacloud/lustre1/NGSdev/evansna/cyclicIF/output/aggregated_results.csv')\n",
    "\n",
    "# select only registered results -- keep R0 unregistered as this is the aligned reference \n",
    "res = res[(res.status == 'registered') | (res['round'] == 'R0')]\n",
    "\n",
    "res.head()"
   ]
  },
  {
   "cell_type": "markdown",
   "metadata": {},
   "source": [
    "# Restiching images \n",
    "\n",
    "### Quality Control \n",
    "\n",
    "This can be done using the `auto` flag, which will remove and cores that fall outside of the hardcoded thresholds (see `config.py` for details) **OR** by passing a dictionary specifying round-cores, which will be excluded from the restitched image. See comments in the cell below for details. "
   ]
  },
  {
   "cell_type": "code",
   "execution_count": null,
   "metadata": {},
   "outputs": [],
   "source": [
    "import json\n",
    "\n",
    "with open('workflow/scripts/manual_QC_example.json') as data_file:    \n",
    "    qc_method = json.load(data_file)\n",
    "    \n",
    "print(qc_method)\n",
    "print(type(qc_method))"
   ]
  },
  {
   "cell_type": "code",
   "execution_count": null,
   "metadata": {
    "scrolled": false
   },
   "outputs": [],
   "source": [
    "## NOTE QC methods need to be further tested. ##\n",
    "\n",
    "## change/uncomment these values to modify QC method used ###################\n",
    "#qc_method = None\n",
    "#qc_method = 'auto'\n",
    "qc_method = {'R0':[23,3,42,35,19,79,17,22], \n",
    "             'R1':[15,12,60,54,48,38,70,62], \n",
    "             'R2':[30,46,8,24,80,9,31,44,76]}\n",
    "# the dictionary here will remove cores as specified within each round. eg. \n",
    "# in this example it'll remove cores the top row of cores in R0, second row in R1... etc\n",
    "# assuming we're looking at S3,Scene-1 - see tutorial.ipynb for the core id mapping (or the scene dir)\n",
    "#############################################################################\n",
    "\n",
    "### MULTI THREADED restitching ### \n",
    "threads = []\n",
    "print('assigning threads...', end='\\n')\n",
    "for _round in np.sort(res['round'].unique()): \n",
    "    _temp = res[lambda x: (x['round'] == _round)]\n",
    "    for _channel in np.sort(_temp['color_channel'].unique()): \n",
    "        print(f'\\t\\t\\t\\t {(_round, _channel)}')\n",
    "        \n",
    "        # parse the dictionary for manual qc. \n",
    "        if type(qc_method) == type({}): \n",
    "            if _round in qc_method.keys(): \n",
    "                _qc_method = qc_method[_round]\n",
    "            else: \n",
    "                _qc_method=None\n",
    "        else: \n",
    "            _qc_method = qc_method\n",
    "\n",
    "        # see qc.py for details                                dat, _round, _channel, qc=[None, 'auto', []], output_dir='../output/S3/Scene-1', save=True, verbose=True\n",
    "        t = threading.Thread(target=qc.restitch_image, args = (res, _round, _channel, _qc_method,                        '../output/S3/Scene-1/',      True,         True))\n",
    "        t.daemon = True\n",
    "        t.start()\n",
    "        threads.append(t)\n",
    "    \n",
    "print('...done')\n",
    "print()\n",
    "print('threads are running concurrently - this may take a while ~10 minutes')\n",
    "print()\n",
    "\n",
    "# TODO: need better visualization of progress \n",
    "# prevent calls on the thread and wait for it to finish executing     \n",
    "# if you call this, you can't check on the threads by querying them (next cell)\n",
    "for t in threads:\n",
    "    t.join()"
   ]
  },
  {
   "cell_type": "markdown",
   "metadata": {},
   "source": [
    "# Visualize re-stitched images \n",
    "\n",
    "## **Registered** "
   ]
  },
  {
   "cell_type": "code",
   "execution_count": null,
   "metadata": {},
   "outputs": [],
   "source": [
    "im = sitk.ReadImage('../output/S3/Scene-1/R0_AF488.AF555.AF647.AF750_S3_2020_01_21__13471-Scene-1_c1_ORG_registered.tif')\n",
    "utils.myshow(im)"
   ]
  },
  {
   "cell_type": "code",
   "execution_count": null,
   "metadata": {},
   "outputs": [],
   "source": [
    "im = sitk.ReadImage('../output/S3/Scene-1/R1_H3K27me3.CCNB1.CCND1.Ki67_S3_2020_01_22__13485-Scene-1_c1_ORG_registered.tif')\n",
    "utils.myshow(im)"
   ]
  },
  {
   "cell_type": "code",
   "execution_count": null,
   "metadata": {},
   "outputs": [],
   "source": [
    "im = sitk.ReadImage('../output/S3/Scene-1/R2_PCNA.AR.ER.GATA3_S3_2020_01_23__13492-Scene-1_c1_ORG_registered.tif')\n",
    "utils.myshow(im)"
   ]
  },
  {
   "cell_type": "code",
   "execution_count": null,
   "metadata": {
    "scrolled": false
   },
   "outputs": [],
   "source": [
    "qc.choose_and_viz(data_dir='../output/S3/Scene-1/')"
   ]
  },
  {
   "cell_type": "markdown",
   "metadata": {},
   "source": [
    "## original / unregistered"
   ]
  },
  {
   "cell_type": "code",
   "execution_count": null,
   "metadata": {},
   "outputs": [],
   "source": [
    "qc.choose_and_viz(data_dir='../data/')"
   ]
  },
  {
   "cell_type": "code",
   "execution_count": null,
   "metadata": {},
   "outputs": [],
   "source": []
  },
  {
   "cell_type": "code",
   "execution_count": null,
   "metadata": {},
   "outputs": [],
   "source": []
  },
  {
   "cell_type": "code",
   "execution_count": null,
   "metadata": {},
   "outputs": [],
   "source": []
  },
  {
   "cell_type": "code",
   "execution_count": null,
   "metadata": {},
   "outputs": [],
   "source": []
  },
  {
   "cell_type": "markdown",
   "metadata": {},
   "source": [
    "# Deprecated Functions"
   ]
  },
  {
   "cell_type": "code",
   "execution_count": null,
   "metadata": {},
   "outputs": [],
   "source": [
    "### SINGLE THREADED EXAMPLE ### \n",
    "print('asfadf')\n",
    "dapi_images = []\n",
    "for _round in np.sort(res['round'].unique()): \n",
    "    print('round:', _round)\n",
    "    _temp = res[lambda x: (x['round'] == _round)]\n",
    "    for _channel in np.sort(_temp['color_channel'].unique()): \n",
    "        print('\\tchannel:', _channel)\n",
    "        \n",
    "        tic = time.time()\n",
    "        joined_image = qc.restitch_image(res, _round, _channel, qc='auto', output_dir='../output/S3/', save=True)\n",
    "        toc = time.time()\n",
    "        print(f'\\telapsed: {(toc-tic)/60:.2f}m')\n",
    "        \n",
    "        if _channel == 'c1': dapi_images.append(joined_image)\n"
   ]
  },
  {
   "cell_type": "code",
   "execution_count": null,
   "metadata": {},
   "outputs": [],
   "source": []
  }
 ],
 "metadata": {
  "kernelspec": {
   "display_name": "Python 3",
   "language": "python",
   "name": "python3"
  },
  "language_info": {
   "codemirror_mode": {
    "name": "ipython",
    "version": 3
   },
   "file_extension": ".py",
   "mimetype": "text/x-python",
   "name": "python",
   "nbconvert_exporter": "python",
   "pygments_lexer": "ipython3",
   "version": "3.8.5"
  }
 },
 "nbformat": 4,
 "nbformat_minor": 4
}
