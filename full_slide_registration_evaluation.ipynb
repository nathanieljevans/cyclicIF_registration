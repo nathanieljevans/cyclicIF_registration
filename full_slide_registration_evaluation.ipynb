{
 "cells": [
  {
   "cell_type": "code",
   "execution_count": null,
   "metadata": {},
   "outputs": [],
   "source": [
    "%%time\n",
    "# for development, changes in other modules have to be reloaded to reflect changes\n",
    "%load_ext autoreload\n",
    "%autoreload 1\n",
    "\n",
    "import pandas as pd \n",
    "import numpy as np \n",
    "from matplotlib import pyplot as plt \n",
    "import seaborn as sbn \n",
    "import os, sys\n",
    "import SimpleITK as sitk\n",
    "\n",
    "%aimport config \n",
    "sys.path.append(config.lib_dir)\n",
    "%aimport utils\n",
    "%aimport segment \n",
    "%aimport match \n",
    "%aimport register \n",
    "%aimport evaluate \n",
    "%aimport qc \n",
    "sys.path.append(config.script_dir)\n",
    "from slide_registration import *"
   ]
  },
  {
   "cell_type": "markdown",
   "metadata": {},
   "source": [
    "# Overview\n",
    "\n",
    "The goal of this notebook is to compare the efficacy of the full slide's registrations for a given experiment.\n"
   ]
  },
  {
   "cell_type": "code",
   "execution_count": null,
   "metadata": {},
   "outputs": [],
   "source": [
    "class args:\n",
    "    def __init__(self):\n",
    "        args.input = ['/mnt/e/CycIF_analysis/registration_outputs/test_restitched/']\n",
    "        args.slide = ['D1']\n",
    "        args.scene = ['None']\n",
    "        \n",
    "args = args()"
   ]
  },
  {
   "cell_type": "code",
   "execution_count": null,
   "metadata": {},
   "outputs": [],
   "source": [
    "img_file_names = [x for x in os.listdir(args.input[0]) if x[-4:] == '.tif']\n",
    "parsed_names = pd.DataFrame([parse_file_name(x) for x in img_file_names])\n",
    "\n",
    "# filter to slide/scene\n",
    "parsed_names = parsed_names[lambda x: (x.slide_name == args.slide[0]) & (x.scene == args.scene[0])]\n",
    "\n",
    "# grab only the dapi channel \n",
    "parsed_names = parsed_names[lambda x: x.color_channel == 'c1']\n",
    "\n",
    "parsed_names.head()"
   ]
  },
  {
   "cell_type": "code",
   "execution_count": null,
   "metadata": {},
   "outputs": [],
   "source": [
    "imgs_reg = utils.load_imgs_mt(parsed_names.original.values, '/mnt/e/CycIF_analysis/registration_outputs/test_restitched/')"
   ]
  },
  {
   "cell_type": "code",
   "execution_count": null,
   "metadata": {},
   "outputs": [],
   "source": [
    "imgs_unreg = utils.load_imgs_mt(parsed_names.original.values, '/mnt/z/Marilyne/Axioscan/6-Dhivya/split/No_Scene/')"
   ]
  },
  {
   "cell_type": "markdown",
   "metadata": {},
   "source": [
    "# Testing de-dusting alg"
   ]
  },
  {
   "cell_type": "code",
   "execution_count": null,
   "metadata": {},
   "outputs": [],
   "source": [
    "gaussian = sitk.DiscreteGaussianImageFilter()\n",
    "gaussian.SetVariance( (10, 10) )\n",
    "\n",
    "?gaussian"
   ]
  },
  {
   "cell_type": "code",
   "execution_count": null,
   "metadata": {},
   "outputs": [],
   "source": [
    "def dedust(im): \n",
    "    '''\n",
    "\n",
    "    '''\n",
    "\n",
    "    # load image \n",
    "    #im = sitk.ReadImage(args.input[0] + '/' + info.original, sitk.sitkUInt8)\n",
    "\n",
    "    # gaussian blur to avoid grabbing random high intesnity pixels \n",
    "    gaussian = sitk.DiscreteGaussianImageFilter()\n",
    "    gaussian.SetVariance( (100, 100) )\n",
    "    gaussian.SetMaximumKernelWidth(1000)\n",
    "    im_blur  = gaussian.Execute ( im )\n",
    "    utils.myshow(im_blur[::10, ::10], figsize=(10,10))\n",
    "    \n",
    "    # create mask image\n",
    "    # should really use quantile or something... \n",
    "    thresh = np.quantile(sitk.GetArrayFromImage(im).flatten(), 0.99)\n",
    "    print(thresh)\n",
    "    mask = im_blur > thresh #100\n",
    "    \n",
    "    utils.myshow(mask[::10, ::10])\n",
    "\n",
    "    # create mask filter \n",
    "    filt = sitk.MaskImageFilter()\n",
    "    filt.SetMaskingValue(1)\n",
    "    filt.SetOutsideValue(0)\n",
    "\n",
    "    # modify image\n",
    "    im2 = filt.Execute(image=im, maskImage=mask) \n",
    "\n",
    "    # rescale image \n",
    "    im2 = sitk.RescaleIntensity(im2, outputMinimum=0, outputMaximum=255)\n",
    "\n",
    "    # save image\n",
    "    #sitk.WriteImage(im2, args.output[0] + '/' + info.original)\n",
    "\n",
    "    utils.myshow(im2[::10,::10], figsize=(10,10))"
   ]
  },
  {
   "cell_type": "code",
   "execution_count": null,
   "metadata": {
    "scrolled": false
   },
   "outputs": [],
   "source": [
    "for _im in imgs_unreg:\n",
    "    print(_im)\n",
    "    im = imgs_unreg[_im]\n",
    "    dedust(im)"
   ]
  },
  {
   "cell_type": "markdown",
   "metadata": {},
   "source": [
    "# Evaluating slide registration"
   ]
  },
  {
   "cell_type": "code",
   "execution_count": null,
   "metadata": {},
   "outputs": [],
   "source": [
    "fixed = imgs_reg['R0_AF488.AF555.AF647.AF750_D1_2020_09_30__9123_c1_ORG.tif']\n",
    "utils.myshow(fixed[::10, ::10])\n",
    "seg_fixed = fixed > 10\n",
    "seg_fixed = sitk.Cast(seg_fixed, sitk.sitkFloat32)\n",
    "utils.myshow(seg_fixed[::10, ::10])\n"
   ]
  },
  {
   "cell_type": "code",
   "execution_count": null,
   "metadata": {},
   "outputs": [],
   "source": [
    "sitk.GetArrayFromImage(fixed).max()"
   ]
  },
  {
   "cell_type": "code",
   "execution_count": null,
   "metadata": {},
   "outputs": [],
   "source": [
    "gaussian = sitk.DiscreteGaussianImageFilter()\n",
    "gaussian.SetVariance( 10 )\n",
    "fixed_blur  = gaussian.Execute ( fixed )"
   ]
  },
  {
   "cell_type": "code",
   "execution_count": null,
   "metadata": {},
   "outputs": [],
   "source": [
    "seg_fixed = fixed_blur > np.quantile(sitk.GetArrayFromImage(fixed_blur), 0.75)"
   ]
  },
  {
   "cell_type": "code",
   "execution_count": null,
   "metadata": {},
   "outputs": [],
   "source": [
    "utils.myshow(seg_fixed[::10, ::10])"
   ]
  },
  {
   "cell_type": "code",
   "execution_count": null,
   "metadata": {},
   "outputs": [],
   "source": [
    "seg_fixed = sitk.Cast(seg_fixed, sitk.sitkInt8)"
   ]
  },
  {
   "cell_type": "code",
   "execution_count": null,
   "metadata": {
    "scrolled": false
   },
   "outputs": [],
   "source": [
    "def plot_reg(moving, fixed, ax, title): \n",
    "    \n",
    "    #moving  = gaussian.Execute ( moving )\n",
    "    seg_fixed = fixed > np.quantile(fixed, 0.75)\n",
    "    seg_fixed = sitk.Cast(fixed, sitk.sitkInt8)\n",
    "    seg_moving = moving > np.quantile(sitk.GetArrayFromImage(moving), 0.75)\n",
    "    seg_moving = sitk.Cast(seg_moving, sitk.sitkInt8)\n",
    "    \n",
    "    sub = seg_fixed - seg_moving\n",
    "    utils.myshow(sub[::10, ::10], ax=ax, title=title)\n",
    "\n",
    "for _im in imgs_reg: \n",
    "    print(_im)\n",
    "    moving_reg = imgs_reg[_im]\n",
    "    #moving_unreg = imgs_unreg[_im]\n",
    "    \n",
    "    #moving_unreg = sitk.Resample(moving_unreg, seg_fixed)\n",
    "    #moving_reg = sitk.Resample(moving_reg, fixed)#seg_fixed)\n",
    "    \n",
    "    f, axes = plt.subplots(1,1, figsize=(12,12))\n",
    "    plot_reg(moving_reg, fixed, axes, 'registered')\n",
    "    \n",
    "    #plot_reg(moving_unreg, seg_fixed, axes.flat[1], 'unregistered')\n",
    "    plt.show()"
   ]
  },
  {
   "cell_type": "code",
   "execution_count": null,
   "metadata": {},
   "outputs": [],
   "source": []
  }
 ],
 "metadata": {
  "kernelspec": {
   "display_name": "Python 3",
   "language": "python",
   "name": "python3"
  },
  "language_info": {
   "codemirror_mode": {
    "name": "ipython",
    "version": 3
   },
   "file_extension": ".py",
   "mimetype": "text/x-python",
   "name": "python",
   "nbconvert_exporter": "python",
   "pygments_lexer": "ipython3",
   "version": "3.8.5"
  }
 },
 "nbformat": 4,
 "nbformat_minor": 4
}
