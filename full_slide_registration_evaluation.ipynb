{
 "cells": [
  {
   "cell_type": "code",
   "execution_count": 1,
   "metadata": {},
   "outputs": [
    {
     "name": "stdout",
     "output_type": "stream",
     "text": [
      "CPU times: user 1.12 s, sys: 1.12 s, total: 2.25 s\n",
      "Wall time: 3.64 s\n"
     ]
    }
   ],
   "source": [
    "%%time\n",
    "# for development, changes in other modules have to be reloaded to reflect changes\n",
    "%load_ext autoreload\n",
    "%autoreload 1\n",
    "\n",
    "import pandas as pd \n",
    "import numpy as np \n",
    "from matplotlib import pyplot as plt \n",
    "import seaborn as sbn \n",
    "import os, sys\n",
    "import SimpleITK as sitk\n",
    "\n",
    "%aimport config \n",
    "sys.path.append(config.lib_dir)\n",
    "%aimport utils\n",
    "%aimport segment \n",
    "%aimport match \n",
    "%aimport register \n",
    "%aimport evaluate \n",
    "%aimport qc \n",
    "sys.path.append(config.script_dir)\n",
    "from slide_registration import *"
   ]
  },
  {
   "cell_type": "markdown",
   "metadata": {},
   "source": [
    "# Overview\n",
    "\n",
    "The goal of this notebook is to compare the efficacy of the full slide's registrations for a given experiment.\n"
   ]
  },
  {
   "cell_type": "code",
   "execution_count": 2,
   "metadata": {},
   "outputs": [],
   "source": [
    "# These must be adjusted to your specific experiment\n",
    "unreg_path    = '/mnt/z/Marilyne/Axioscan/6-Dhivya/split/No_Scene/'\n",
    "reg_path      = './registered_imgs/'\n",
    "slide_name    = 'D3'\n",
    "scene_name    = 'None'"
   ]
  },
  {
   "cell_type": "code",
   "execution_count": 3,
   "metadata": {},
   "outputs": [
    {
     "data": {
      "text/html": [
       "<div>\n",
       "<style scoped>\n",
       "    .dataframe tbody tr th:only-of-type {\n",
       "        vertical-align: middle;\n",
       "    }\n",
       "\n",
       "    .dataframe tbody tr th {\n",
       "        vertical-align: top;\n",
       "    }\n",
       "\n",
       "    .dataframe thead th {\n",
       "        text-align: right;\n",
       "    }\n",
       "</style>\n",
       "<table border=\"1\" class=\"dataframe\">\n",
       "  <thead>\n",
       "    <tr style=\"text-align: right;\">\n",
       "      <th></th>\n",
       "      <th>round</th>\n",
       "      <th>protein</th>\n",
       "      <th>slide_name</th>\n",
       "      <th>date</th>\n",
       "      <th>scan_id</th>\n",
       "      <th>scene</th>\n",
       "      <th>color_channel</th>\n",
       "      <th>note</th>\n",
       "      <th>file_type</th>\n",
       "      <th>original</th>\n",
       "    </tr>\n",
       "  </thead>\n",
       "  <tbody>\n",
       "    <tr>\n",
       "      <th>2</th>\n",
       "      <td>R1</td>\n",
       "      <td>H3K27ME3.AXL.CCND1.HER2</td>\n",
       "      <td>D3</td>\n",
       "      <td>2020-10-02</td>\n",
       "      <td>9179</td>\n",
       "      <td>None</td>\n",
       "      <td>c1</td>\n",
       "      <td>ORG</td>\n",
       "      <td>tif</td>\n",
       "      <td>R1_H3K27ME3.AXL.CCND1.HER2_D3_2020_10_02__9179...</td>\n",
       "    </tr>\n",
       "    <tr>\n",
       "      <th>18</th>\n",
       "      <td>R5</td>\n",
       "      <td>BCLxL.CD68.PD1.pATM</td>\n",
       "      <td>D3</td>\n",
       "      <td>2020-10-08</td>\n",
       "      <td>9275</td>\n",
       "      <td>None</td>\n",
       "      <td>c1</td>\n",
       "      <td>ORG</td>\n",
       "      <td>tif</td>\n",
       "      <td>R5_BCLxL.CD68.PD1.pATM_D3_2020_10_08__9275_c1_...</td>\n",
       "    </tr>\n",
       "    <tr>\n",
       "      <th>19</th>\n",
       "      <td>R7</td>\n",
       "      <td>Vimentin.BRCA1.CD8.CD44</td>\n",
       "      <td>D3</td>\n",
       "      <td>2020-10-12</td>\n",
       "      <td>9315</td>\n",
       "      <td>None</td>\n",
       "      <td>c1</td>\n",
       "      <td>ORG</td>\n",
       "      <td>tif</td>\n",
       "      <td>R7_Vimentin.BRCA1.CD8.CD44_D3_2020_10_12__9315...</td>\n",
       "    </tr>\n",
       "    <tr>\n",
       "      <th>21</th>\n",
       "      <td>R0</td>\n",
       "      <td>AF488.AF555.AF647.AF750</td>\n",
       "      <td>D3</td>\n",
       "      <td>2020-09-30</td>\n",
       "      <td>9158</td>\n",
       "      <td>None</td>\n",
       "      <td>c1</td>\n",
       "      <td>ORG</td>\n",
       "      <td>tif</td>\n",
       "      <td>R0_AF488.AF555.AF647.AF750_D3_2020_09_30__9158...</td>\n",
       "    </tr>\n",
       "    <tr>\n",
       "      <th>24</th>\n",
       "      <td>R6</td>\n",
       "      <td>pHH3.AR.Sting.CD45</td>\n",
       "      <td>D3</td>\n",
       "      <td>2020-10-09</td>\n",
       "      <td>9295</td>\n",
       "      <td>None</td>\n",
       "      <td>c1</td>\n",
       "      <td>ORG</td>\n",
       "      <td>tif</td>\n",
       "      <td>R6_pHH3.AR.Sting.CD45_D3_2020_10_09__9295_c1_O...</td>\n",
       "    </tr>\n",
       "  </tbody>\n",
       "</table>\n",
       "</div>"
      ],
      "text/plain": [
       "   round                  protein slide_name        date scan_id scene  \\\n",
       "2     R1  H3K27ME3.AXL.CCND1.HER2         D3  2020-10-02    9179  None   \n",
       "18    R5      BCLxL.CD68.PD1.pATM         D3  2020-10-08    9275  None   \n",
       "19    R7  Vimentin.BRCA1.CD8.CD44         D3  2020-10-12    9315  None   \n",
       "21    R0  AF488.AF555.AF647.AF750         D3  2020-09-30    9158  None   \n",
       "24    R6       pHH3.AR.Sting.CD45         D3  2020-10-09    9295  None   \n",
       "\n",
       "   color_channel note file_type  \\\n",
       "2             c1  ORG       tif   \n",
       "18            c1  ORG       tif   \n",
       "19            c1  ORG       tif   \n",
       "21            c1  ORG       tif   \n",
       "24            c1  ORG       tif   \n",
       "\n",
       "                                             original  \n",
       "2   R1_H3K27ME3.AXL.CCND1.HER2_D3_2020_10_02__9179...  \n",
       "18  R5_BCLxL.CD68.PD1.pATM_D3_2020_10_08__9275_c1_...  \n",
       "19  R7_Vimentin.BRCA1.CD8.CD44_D3_2020_10_12__9315...  \n",
       "21  R0_AF488.AF555.AF647.AF750_D3_2020_09_30__9158...  \n",
       "24  R6_pHH3.AR.Sting.CD45_D3_2020_10_09__9295_c1_O...  "
      ]
     },
     "execution_count": 3,
     "metadata": {},
     "output_type": "execute_result"
    }
   ],
   "source": [
    "img_file_names = [x for x in os.listdir(reg_path) if x[-4:] == '.tif']\n",
    "parsed_names = pd.DataFrame([parse_file_name(x) for x in img_file_names])\n",
    "\n",
    "# filter to slide/scene\n",
    "parsed_names = parsed_names[lambda x: (x.slide_name == slide_name) & (x.scene == scene_name)]\n",
    "\n",
    "# grab only the dapi channel \n",
    "parsed_names = parsed_names[lambda x: x.color_channel == 'c1']\n",
    "\n",
    "parsed_names.head()"
   ]
  },
  {
   "cell_type": "code",
   "execution_count": 4,
   "metadata": {},
   "outputs": [
    {
     "name": "stdout",
     "output_type": "stream",
     "text": [
      "starting multithreaded image loading...\n",
      "assigning threads...done.\n",
      "waiting for threads to complete.\n",
      "finished task: 8/10\n",
      "threads complete.\n",
      "\n",
      "...image loading complete.\n"
     ]
    }
   ],
   "source": [
    "imgs_reg = utils.load_imgs_mt(parsed_names.original.values, reg_path)"
   ]
  },
  {
   "cell_type": "code",
   "execution_count": 5,
   "metadata": {},
   "outputs": [
    {
     "name": "stdout",
     "output_type": "stream",
     "text": [
      "starting multithreaded image loading...\n",
      "assigning threads...done.\n",
      "waiting for threads to complete.\n",
      "finished task: 3/10\n",
      "threads complete.\n",
      "\n",
      "...image loading complete.\n"
     ]
    }
   ],
   "source": [
    "imgs_unreg = utils.load_imgs_mt(parsed_names.original.values, unreg_path)"
   ]
  },
  {
   "cell_type": "markdown",
   "metadata": {},
   "source": [
    "# Evaluating slide registration"
   ]
  },
  {
   "cell_type": "code",
   "execution_count": 18,
   "metadata": {},
   "outputs": [
    {
     "data": {
      "text/plain": [
       "array(['R0_AF488.AF555.AF647.AF750_D3_2020_09_30__9158_c1_ORG.tif'],\n",
       "      dtype='<U59')"
      ]
     },
     "execution_count": 18,
     "metadata": {},
     "output_type": "execute_result"
    }
   ],
   "source": [
    "np.array(list(imgs_reg.keys()))[[('R0' in x and 'c1' in x) for x in imgs_reg.keys()]][0]"
   ]
  },
  {
   "cell_type": "code",
   "execution_count": 6,
   "metadata": {},
   "outputs": [
    {
     "ename": "KeyError",
     "evalue": "'R0_AF488.AF555.AF647.AF750_D1_2020_09_30__9123_c1_ORG.tif'",
     "output_type": "error",
     "traceback": [
      "\u001b[0;31m---------------------------------------------------------------------------\u001b[0m",
      "\u001b[0;31mKeyError\u001b[0m                                  Traceback (most recent call last)",
      "\u001b[0;32m<ipython-input-6-87a675170a86>\u001b[0m in \u001b[0;36m<module>\u001b[0;34m\u001b[0m\n\u001b[1;32m      1\u001b[0m \u001b[0mf\u001b[0m\u001b[0;34m,\u001b[0m\u001b[0maxes\u001b[0m \u001b[0;34m=\u001b[0m \u001b[0mplt\u001b[0m\u001b[0;34m.\u001b[0m\u001b[0msubplots\u001b[0m\u001b[0;34m(\u001b[0m\u001b[0;36m1\u001b[0m\u001b[0;34m,\u001b[0m\u001b[0;36m2\u001b[0m\u001b[0;34m,\u001b[0m \u001b[0mfigsize\u001b[0m\u001b[0;34m=\u001b[0m\u001b[0;34m(\u001b[0m\u001b[0;36m15\u001b[0m\u001b[0;34m,\u001b[0m\u001b[0;36m5\u001b[0m\u001b[0;34m)\u001b[0m\u001b[0;34m)\u001b[0m\u001b[0;34m\u001b[0m\u001b[0;34m\u001b[0m\u001b[0m\n\u001b[1;32m      2\u001b[0m \u001b[0;34m\u001b[0m\u001b[0m\n\u001b[0;32m----> 3\u001b[0;31m \u001b[0mfixed\u001b[0m \u001b[0;34m=\u001b[0m \u001b[0mimgs_reg\u001b[0m\u001b[0;34m[\u001b[0m\u001b[0;34m'R0_AF488.AF555.AF647.AF750_D1_2020_09_30__9123_c1_ORG.tif'\u001b[0m\u001b[0;34m]\u001b[0m\u001b[0;34m\u001b[0m\u001b[0;34m\u001b[0m\u001b[0m\n\u001b[0m\u001b[1;32m      4\u001b[0m \u001b[0;34m\u001b[0m\u001b[0m\n\u001b[1;32m      5\u001b[0m \u001b[0mutils\u001b[0m\u001b[0;34m.\u001b[0m\u001b[0mmyshow\u001b[0m\u001b[0;34m(\u001b[0m\u001b[0mfixed\u001b[0m\u001b[0;34m[\u001b[0m\u001b[0;34m:\u001b[0m\u001b[0;34m:\u001b[0m\u001b[0;36m10\u001b[0m\u001b[0;34m,\u001b[0m \u001b[0;34m:\u001b[0m\u001b[0;34m:\u001b[0m\u001b[0;36m10\u001b[0m\u001b[0;34m]\u001b[0m\u001b[0;34m,\u001b[0m \u001b[0max\u001b[0m\u001b[0;34m=\u001b[0m\u001b[0maxes\u001b[0m\u001b[0;34m.\u001b[0m\u001b[0mflat\u001b[0m\u001b[0;34m[\u001b[0m\u001b[0;36m0\u001b[0m\u001b[0;34m]\u001b[0m\u001b[0;34m,\u001b[0m \u001b[0mtitle\u001b[0m\u001b[0;34m=\u001b[0m\u001b[0;34m'raw'\u001b[0m\u001b[0;34m)\u001b[0m\u001b[0;34m\u001b[0m\u001b[0;34m\u001b[0m\u001b[0m\n",
      "\u001b[0;31mKeyError\u001b[0m: 'R0_AF488.AF555.AF647.AF750_D1_2020_09_30__9123_c1_ORG.tif'"
     ]
    },
    {
     "data": {
      "image/png": "[encoded data removed]",
      "text/plain": [
       "<Figure size 1080x360 with 2 Axes>"
      ]
     },
     "metadata": {
      "needs_background": "light"
     },
     "output_type": "display_data"
    }
   ],
   "source": [
    "f,axes = plt.subplots(1,2, figsize=(15,5))\n",
    "\n",
    "R0_name = np.array(list(imgs_reg.keys()))[[('R0' in x and 'c1' in x) for x in imgs_reg.keys()]][0]\n",
    "fixed = imgs_reg['R0_AF488.AF555.AF647.AF750_D1_2020_09_30__9123_c1_ORG.tif']\n",
    "\n",
    "utils.myshow(fixed[::10, ::10], ax=axes.flat[0], title='raw')\n",
    "seg_fixed = fixed_blur > np.quantile(sitk.GetArrayFromImage(fixed_blur), 0.75)\n",
    "utils.myshow(seg_fixed[::10, ::10], ax=axes.flat[1], title='segmented')\n",
    "plt.suptitle('fixed slide')\n",
    "\n",
    "plt.show()"
   ]
  },
  {
   "cell_type": "code",
   "execution_count": null,
   "metadata": {
    "scrolled": false
   },
   "outputs": [],
   "source": [
    "def plot_reg(moving, seg_fixed, ax, title): \n",
    "    \n",
    "    #moving  = gaussian.Execute ( moving )\n",
    "    #seg_fixed = fixed > np.quantile(fixed, 0.75)\n",
    "    #seg_fixed = sitk.Cast(fixed, sitk.sitkInt8)\n",
    "    seg_moving = moving > np.quantile(sitk.GetArrayFromImage(moving), 0.75)\n",
    "    seg_moving = sitk.Cast(seg_moving, sitk.sitkInt8)\n",
    "    seg_fixed = sitk.Cast(seg_fixed, sitk.sitkInt8)\n",
    "    \n",
    "    sub = seg_fixed - seg_moving\n",
    "    utils.myshow(sub[::10, ::10], ax=ax, title=title)\n",
    "\n",
    "im_names = list(imgs_reg.keys())\n",
    "im_names.sort()\n",
    "for _im in im_names: \n",
    "    #print(_im)\n",
    "    moving_reg = imgs_reg[_im]\n",
    "    moving_unreg = imgs_unreg[_im]\n",
    "    \n",
    "    moving_unreg = sitk.Resample(moving_unreg, seg_fixed)\n",
    "    moving_reg = sitk.Resample(moving_reg, seg_fixed)\n",
    "    \n",
    "    f, axes = plt.subplots(1,2, figsize=(15,5))\n",
    "    plot_reg(moving_reg, seg_fixed, axes.flat[0], 'registered')\n",
    "    \n",
    "    plot_reg(moving_unreg, seg_fixed, axes.flat[1], 'unregistered')\n",
    "    plt.suptitle(_im)\n",
    "    plt.show()"
   ]
  },
  {
   "cell_type": "code",
   "execution_count": null,
   "metadata": {},
   "outputs": [],
   "source": []
  }
 ],
 "metadata": {
  "kernelspec": {
   "display_name": "Python 3",
   "language": "python",
   "name": "python3"
  },
  "language_info": {
   "codemirror_mode": {
    "name": "ipython",
    "version": 3
   },
   "file_extension": ".py",
   "mimetype": "text/x-python",
   "name": "python",
   "nbconvert_exporter": "python",
   "pygments_lexer": "ipython3",
   "version": "3.8.5"
  }
 },
 "nbformat": 4,
 "nbformat_minor": 4
}
